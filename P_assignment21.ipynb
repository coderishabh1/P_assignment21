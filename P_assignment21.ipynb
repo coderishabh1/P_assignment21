{
 "cells": [
  {
   "cell_type": "code",
   "execution_count": null,
   "id": "3a3e4ecb-7a06-4e3e-b5d5-18f016e43320",
   "metadata": {},
   "outputs": [],
   "source": [
    "### ans1\n",
    "\n",
    "lis=[]\n",
    "l = int (input())\n",
    "for i in range (l):\n",
    "    ele = int (input())\n",
    "    lis.append(ele)\n",
    "a=int (input())\n",
    "def modified_list(lis,a):\n",
    "    del lis[0]\n",
    "    lis.append(a)\n",
    "    print (lis)\n",
    "modified_list(lis,a)\n"
   ]
  },
  {
   "cell_type": "code",
   "execution_count": 1,
   "id": "6905365e-d58a-4980-8196-6885f94358e1",
   "metadata": {},
   "outputs": [
    {
     "name": "stdin",
     "output_type": "stream",
     "text": [
      " rishabh\n"
     ]
    },
    {
     "name": "stdout",
     "output_type": "stream",
     "text": [
      "abhhirs\n"
     ]
    }
   ],
   "source": [
    "##ans3\n",
    "string = input()\n",
    "sorted_chars = sorted(string)\n",
    "sorted_string = ''.join(sorted_chars)\n",
    "print(sorted_string)\n"
   ]
  },
  {
   "cell_type": "code",
   "execution_count": 3,
   "id": "fac6baad-f17a-4259-b3d1-cf2bde22224b",
   "metadata": {},
   "outputs": [
    {
     "name": "stdin",
     "output_type": "stream",
     "text": [
      "principle ammount: 100\n",
      "time period: 1\n",
      "rata: .05\n",
      "comound period per year: 1\n"
     ]
    },
    {
     "name": "stdout",
     "output_type": "stream",
     "text": [
      "105.0\n"
     ]
    }
   ],
   "source": [
    "# ans4\n",
    "p= float(input(\"principle ammount:\"))\n",
    "t= float(input(\"time period:\"))\n",
    "r= float(input(\"rata:\"))\n",
    "n= float(input(\"comound period per year:\"))\n",
    "def com_int(p,t,r,n):\n",
    "    compound_interest=p*((1+(r/n)))**(n*t)\n",
    "    return compound_interest\n",
    "ci= com_int(p,t,r,n)\n",
    "print (ci)"
   ]
  },
  {
   "cell_type": "code",
   "execution_count": 4,
   "id": "f5f6a551-b953-4f7a-999d-1b03a8e04262",
   "metadata": {},
   "outputs": [
    {
     "name": "stdin",
     "output_type": "stream",
     "text": [
      "enter the length: 5\n",
      " 2\n",
      " 1\n",
      " space\n",
      " car\n",
      " 5\n"
     ]
    },
    {
     "name": "stdout",
     "output_type": "stream",
     "text": [
      "[2, 1, 5]\n"
     ]
    }
   ],
   "source": [
    "##ans5\n",
    "list1=[]\n",
    "list2=[]\n",
    "l = int(input(\"enter the length:\"))\n",
    "for i in range (l):\n",
    "    ele = input()\n",
    "    list1.append(ele)\n",
    "def run_only_integer(list1,l):\n",
    "    for i in range (l):\n",
    "        try:\n",
    "            list2.append(int(list1[i]))\n",
    "        except:\n",
    "            continue\n",
    "    return list2\n",
    "print (run_only_integer(list1,l))"
   ]
  },
  {
   "cell_type": "code",
   "execution_count": 5,
   "id": "3b640ecd-0389-45e1-abfc-12237272dd6c",
   "metadata": {},
   "outputs": [
    {
     "name": "stdout",
     "output_type": "stream",
     "text": [
      "65700\n"
     ]
    }
   ],
   "source": [
    "##ans2\n",
    "dic=[{\"name\":\"jhon\",\"age\":21,\"budget\":23000},\n",
    "{\"name\":\"stive\",\"age\":32,\"budget\":40000},\n",
    "{\"name\":\"martin\",\"age\":16,\"budget\":2700}]\n",
    "global s\n",
    "def cal_bud(dic):\n",
    "    s=0\n",
    "    for i in range (len(dic)):\n",
    "        s=s+dic[i]['budget']\n",
    "    return s\n",
    "print (cal_bud(dic))"
   ]
  },
  {
   "cell_type": "code",
   "execution_count": 6,
   "id": "a39d369d-f2d0-48dc-ba6e-bed20e08c803",
   "metadata": {},
   "outputs": [
    {
     "name": "stdout",
     "output_type": "stream",
     "text": [
      "62600\n"
     ]
    }
   ],
   "source": [
    "dic=[{\"name\":\"jhon\",\"age\":21,\"budget\":29000},\n",
    "{\"name\":\"stive\",\"age\":32,\"budget\":32000},\n",
    "{\"name\":\"martin\",\"age\":16,\"budget\":1600}]\n",
    "global s\n",
    "def cal_bud(dic):\n",
    "    s=0\n",
    "    for i in range (len(dic)):\n",
    "        s=s+dic[i]['budget']\n",
    "    return s\n",
    "print (cal_bud(dic))"
   ]
  },
  {
   "cell_type": "code",
   "execution_count": null,
   "id": "7323fd25-8b14-4c7d-bce9-c903f762ec31",
   "metadata": {},
   "outputs": [],
   "source": []
  }
 ],
 "metadata": {
  "kernelspec": {
   "display_name": "Python 3 (ipykernel)",
   "language": "python",
   "name": "python3"
  },
  "language_info": {
   "codemirror_mode": {
    "name": "ipython",
    "version": 3
   },
   "file_extension": ".py",
   "mimetype": "text/x-python",
   "name": "python",
   "nbconvert_exporter": "python",
   "pygments_lexer": "ipython3",
   "version": "3.10.6"
  }
 },
 "nbformat": 4,
 "nbformat_minor": 5
}
